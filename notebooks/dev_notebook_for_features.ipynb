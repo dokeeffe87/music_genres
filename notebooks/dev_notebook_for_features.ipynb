{
 "cells": [
  {
   "cell_type": "code",
   "execution_count": 33,
   "id": "tamil-orleans",
   "metadata": {},
   "outputs": [
    {
     "name": "stderr",
     "output_type": "stream",
     "text": [
      "/Users/danielokeeffe/opt/miniconda3/envs/basic_ml_37/lib/python3.7/importlib/_bootstrap.py:219: RuntimeWarning: numpy.ufunc size changed, may indicate binary incompatibility. Expected 192 from C header, got 216 from PyObject\n",
      "  return f(*args, **kwds)\n"
     ]
    }
   ],
   "source": [
    "# Import modules\n",
    "\n",
    "import os\n",
    "import pickle\n",
    "import random \n",
    "import operator\n",
    "import math\n",
    "import numpy as np\n",
    "import pandas as pd\n",
    "from pathlib import Path\n",
    "import scipy.io.wavfile as wav\n",
    "from python_speech_features import mfcc\n",
    "from tempfile import TemporaryFile\n",
    "from sklearn.metrics import accuracy_score, confusion_matrix, f1_score, precision_score, recall_score, roc_auc_score\n",
    "from sklearn.model_selection import train_test_split\n",
    "from time import gmtime, strftime"
   ]
  },
  {
   "cell_type": "code",
   "execution_count": 24,
   "id": "technological-prayer",
   "metadata": {},
   "outputs": [],
   "source": [
    "data_path = '../../data/genres/'"
   ]
  },
  {
   "cell_type": "code",
   "execution_count": 25,
   "id": "decreased-confidentiality",
   "metadata": {},
   "outputs": [],
   "source": [
    "feature_store_path = '../../features'"
   ]
  },
  {
   "cell_type": "code",
   "execution_count": 29,
   "id": "floral-peeing",
   "metadata": {},
   "outputs": [],
   "source": [
    "# Generate the current time for tagging files. Only relevant if the file is to be saved.\n",
    "current_time = strftime('%Y-%m-%d_%H%M%S', gmtime())"
   ]
  },
  {
   "cell_type": "code",
   "execution_count": 27,
   "id": "diagnostic-capture",
   "metadata": {},
   "outputs": [],
   "source": [
    "if feature_store_path is not None:\n",
    "    Path(feature_store_path).mkdir(parents=True, exist_ok=True)"
   ]
  },
  {
   "cell_type": "code",
   "execution_count": 44,
   "id": "southwest-approach",
   "metadata": {},
   "outputs": [
    {
     "name": "stdout",
     "output_type": "stream",
     "text": [
      "Saving sound file features in directory: ../../features\n"
     ]
    }
   ],
   "source": [
    "# How do I load this thing? Each genre seems to have a subfolder containing the soundclips.\n",
    "i = 1\n",
    "if feature_store_path is not None:\n",
    "    print('Saving sound file features in directory: {0}'.format(feature_store_path))\n",
    "    f = open(os.path.join(feature_store_path, 'features_{0}.dat'.format(current_time)), 'wb')\n",
    "else:\n",
    "    print('Saving sound file features in current working directory: {0}'.format(os.getcwd()))\n",
    "    f = open('features_{0}.dat'.format(current_time), 'wb')\n",
    "class_encoding_dict_ = {}\n",
    "for folder in os.listdir(data_path):\n",
    "    if os.path.isdir(os.path.join(data_path, folder)):\n",
    "        for f_ in os.listdir(os.path.join(data_path, folder)):\n",
    "            (rate, sig) = wav.read(os.path.join(os.path.join(data_path, folder), f_))\n",
    "            mfcc_feat = mfcc(sig, rate, winlen=0.02, appendEnergy=False)\n",
    "            covariance_ = np.cov(np.matrix.transpose(mfcc_feat))\n",
    "            mean_matrix = mfcc_feat.mean(0)\n",
    "            feature_ = (mean_matrix, covariance_, i)\n",
    "            pickle.dump(feature_, f)\n",
    "        class_encoding_dict_[i] = folder\n",
    "        i += 1\n",
    "f.close()"
   ]
  },
  {
   "cell_type": "code",
   "execution_count": 45,
   "id": "designing-driving",
   "metadata": {},
   "outputs": [
    {
     "data": {
      "text/plain": [
       "{1: 'pop',\n",
       " 2: 'metal',\n",
       " 3: 'disco',\n",
       " 4: 'blues',\n",
       " 5: 'reggae',\n",
       " 6: 'classical',\n",
       " 7: 'rock',\n",
       " 8: 'hiphop',\n",
       " 9: 'country',\n",
       " 10: 'jazz'}"
      ]
     },
     "execution_count": 45,
     "metadata": {},
     "output_type": "execute_result"
    }
   ],
   "source": [
    "class_encoding_dict_"
   ]
  },
  {
   "cell_type": "code",
   "execution_count": 46,
   "id": "round-savannah",
   "metadata": {},
   "outputs": [],
   "source": [
    "# And save this to a DataFrame so we know what the class encodings are:\n",
    "df_class_encodings = pd.DataFrame.from_dict(class_encoding_dict_, orient='index').reset_index()"
   ]
  },
  {
   "cell_type": "code",
   "execution_count": 47,
   "id": "fifth-garlic",
   "metadata": {},
   "outputs": [],
   "source": [
    "df_class_encodings.columns = ['encoding', 'class_name']"
   ]
  },
  {
   "cell_type": "code",
   "execution_count": 48,
   "id": "twenty-valuation",
   "metadata": {},
   "outputs": [
    {
     "data": {
      "text/html": [
       "<div>\n",
       "<style scoped>\n",
       "    .dataframe tbody tr th:only-of-type {\n",
       "        vertical-align: middle;\n",
       "    }\n",
       "\n",
       "    .dataframe tbody tr th {\n",
       "        vertical-align: top;\n",
       "    }\n",
       "\n",
       "    .dataframe thead th {\n",
       "        text-align: right;\n",
       "    }\n",
       "</style>\n",
       "<table border=\"1\" class=\"dataframe\">\n",
       "  <thead>\n",
       "    <tr style=\"text-align: right;\">\n",
       "      <th></th>\n",
       "      <th>encoding</th>\n",
       "      <th>class_name</th>\n",
       "    </tr>\n",
       "  </thead>\n",
       "  <tbody>\n",
       "    <tr>\n",
       "      <th>0</th>\n",
       "      <td>1</td>\n",
       "      <td>pop</td>\n",
       "    </tr>\n",
       "    <tr>\n",
       "      <th>1</th>\n",
       "      <td>2</td>\n",
       "      <td>metal</td>\n",
       "    </tr>\n",
       "    <tr>\n",
       "      <th>2</th>\n",
       "      <td>3</td>\n",
       "      <td>disco</td>\n",
       "    </tr>\n",
       "    <tr>\n",
       "      <th>3</th>\n",
       "      <td>4</td>\n",
       "      <td>blues</td>\n",
       "    </tr>\n",
       "    <tr>\n",
       "      <th>4</th>\n",
       "      <td>5</td>\n",
       "      <td>reggae</td>\n",
       "    </tr>\n",
       "    <tr>\n",
       "      <th>5</th>\n",
       "      <td>6</td>\n",
       "      <td>classical</td>\n",
       "    </tr>\n",
       "    <tr>\n",
       "      <th>6</th>\n",
       "      <td>7</td>\n",
       "      <td>rock</td>\n",
       "    </tr>\n",
       "    <tr>\n",
       "      <th>7</th>\n",
       "      <td>8</td>\n",
       "      <td>hiphop</td>\n",
       "    </tr>\n",
       "    <tr>\n",
       "      <th>8</th>\n",
       "      <td>9</td>\n",
       "      <td>country</td>\n",
       "    </tr>\n",
       "    <tr>\n",
       "      <th>9</th>\n",
       "      <td>10</td>\n",
       "      <td>jazz</td>\n",
       "    </tr>\n",
       "  </tbody>\n",
       "</table>\n",
       "</div>"
      ],
      "text/plain": [
       "   encoding class_name\n",
       "0         1        pop\n",
       "1         2      metal\n",
       "2         3      disco\n",
       "3         4      blues\n",
       "4         5     reggae\n",
       "5         6  classical\n",
       "6         7       rock\n",
       "7         8     hiphop\n",
       "8         9    country\n",
       "9        10       jazz"
      ]
     },
     "execution_count": 48,
     "metadata": {},
     "output_type": "execute_result"
    }
   ],
   "source": [
    "df_class_encodings"
   ]
  },
  {
   "cell_type": "code",
   "execution_count": 49,
   "id": "daily-question",
   "metadata": {},
   "outputs": [],
   "source": [
    "df_class_encodings.to_csv(os.path.join(feature_store_path, 'class_encodings_{0}.csv'.format(current_time)), index=False)"
   ]
  },
  {
   "cell_type": "code",
   "execution_count": null,
   "id": "seeing-television",
   "metadata": {},
   "outputs": [],
   "source": []
  }
 ],
 "metadata": {
  "kernelspec": {
   "display_name": "Python [conda env:basic_ml_37]",
   "language": "python",
   "name": "conda-env-basic_ml_37-py"
  },
  "language_info": {
   "codemirror_mode": {
    "name": "ipython",
    "version": 3
   },
   "file_extension": ".py",
   "mimetype": "text/x-python",
   "name": "python",
   "nbconvert_exporter": "python",
   "pygments_lexer": "ipython3",
   "version": "3.7.9"
  }
 },
 "nbformat": 4,
 "nbformat_minor": 5
}
